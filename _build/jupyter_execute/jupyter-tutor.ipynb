{
 "cells": [
  {
   "cell_type": "markdown",
   "id": "152e9a2c",
   "metadata": {},
   "source": [
    "# Initiation à Jupyter Notebook\n",
    "\n",
    "\n",
    "Jupyter Notebook vous offre une manière pratique d'expérimenter avec du code Python, en alternant vos expériences avec des notes et de la documentation. Vous pouvez faire tout cela sans avoir à vous aventurer dans la ligne de commande, et le fichier résultant peut facilement être publié et partagé avec d'autres personnes. Dans ce cours, j'utiliserai Jupyter Notebook pour les exemples en classe, et les notes seront mises à disposition sous forme de Jupyter Notebooks. Certains devoirs seront également donnés sous forme de Jupyter Notebooks.\n",
    "\n",
    "\n",
    "## Installation de Python et Jupyter Notebook\n",
    "\n",
    "Cette partie présente les étapes nécessaires pour télécharger et installer Python, configurer Jupyter Notebook, et aborder brièvement l’utilisation de Google Colab.\n",
    "\n",
    "---\n",
    "\n",
    "### Étape 1 : Téléchargement de Python\n",
    "\n",
    "1. Accéder au site officiel de Python : [https://www.python.org/](https://www.python.org/).\n",
    "2. Dans la section **Downloads**, sélectionner la version appropriée pour votre système d'exploitation :\n",
    "   - **Windows** : fichier `.exe`.\n",
    "   - **macOS** : fichier `.pkg`.\n",
    "   - **Linux** : commande via le gestionnaire de paquets.\n",
    "3. Télécharger le fichier correspondant.\n",
    "\n",
    "---\n",
    "\n",
    "### Étape 2 : Installation de Python\n",
    "\n",
    "#### **Pour Windows**\n",
    "1. Double-cliquer sur le fichier téléchargé (`python-<version>.exe`).\n",
    "2. Cochez l’option **Add Python to PATH** pour faciliter l’exécution de Python depuis le terminal.\n",
    "3. Cliquer sur **Install Now** et suivre les instructions de l’assistant.\n",
    "\n",
    "#### **Pour macOS**\n",
    "1. Double-cliquer sur le fichier `.pkg` téléchargé.\n",
    "2. Suivre les instructions de l’assistant d’installation pour terminer la configuration.\n",
    "\n",
    "#### **Pour Linux**\n",
    "1. Ouvrir un terminal.\n",
    "2. Exécuter les commandes suivantes :  \n",
    "   ```\n",
    "   sudo apt update  \n",
    "   sudo apt install python3 python3-pip  \n",
    "   ```\n",
    "\n",
    "---\n",
    "\n",
    "### Étape 3 : Vérification de l'installation\n",
    "\n",
    "1. Ouvrir un terminal ou une invite de commande.\n",
    "2. Exécuter la commande suivante pour vérifier la version installée de Python :  \n",
    "   ```\n",
    "   python --version  \n",
    "   ```  \n",
    "\n",
    "---\n",
    "\n",
    "### Étape 4 : Installation de Jupyter Notebook\n",
    "\n",
    "1. Vérifier que `pip` (le gestionnaire de paquets Python) est installé. Si ce n’est pas le cas, l’installer avec :  \n",
    "   ```\n",
    "   python -m ensurepip --upgrade  \n",
    "   ```  \n",
    "2. Installer Jupyter Notebook à l’aide de la commande suivante :  \n",
    "   ```\n",
    "   pip install notebook  \n",
    "   ```  \n",
    "3. Vérifier que Jupyter Notebook est correctement installé en exécutant :  \n",
    "   ```\n",
    "   jupyter notebook --version  \n",
    "   ```\n",
    "\n",
    "---\n",
    "\n",
    "### Étape 5 : Lancement de Jupyter Notebook\n",
    "\n",
    "1. Ouvrir un terminal ou une invite de commande.\n",
    "2. Naviguer dans le répertoire où vous souhaitez enregistrer vos fichiers ou exécuter vos scripts. Pour changer de répertoire :  \n",
    "   ```\n",
    "   cd chemin_du_repertoire  \n",
    "   ```  \n",
    "3. Démarrer Jupyter Notebook en tapant :  \n",
    "   ```\n",
    "   jupyter notebook  \n",
    "   ```  \n",
    "4. Une nouvelle page s'ouvrira automatiquement dans votre navigateur par défaut. Cette page contient l’interface Jupyter Notebook, qui permet de créer, ouvrir et exécuter des notebooks interactifs.\n",
    "\n",
    "---\n",
    "\n",
    "### Étape 6 : Configuration supplémentaire\n",
    "\n",
    "1. **Mise à jour de pip** pour garantir l’accès aux dernières versions des packages :  \n",
    "   ```\n",
    "   pip install --upgrade pip  \n",
    "   ```  \n",
    "2. **Création d’environnements virtuels** pour isoler vos projets :  \n",
    "   ```\n",
    "   python -m venv mon_env  \n",
    "   source mon_env/bin/activate  # macOS/Linux  \n",
    "   mon_env\\Scripts\\activate     # Windows  \n",
    "   ```  \n",
    "3. **Installation de JupyterLab**, une version avancée de Jupyter Notebook, avec :  \n",
    "   ```\n",
    "   pip install jupyterlab  \n",
    "   ```\n",
    "\n",
    "---\n",
    "\n",
    "## Google Colab\n",
    "\n",
    "### Présentation\n",
    "Google Colab (Collaboratory) est une plateforme basée sur le cloud qui permet d'exécuter des notebooks Jupyter sans nécessiter d’installation locale de Python ou de Jupyter Notebook. Il est particulièrement utile pour les utilisateurs disposant de ressources matérielles limitées ou souhaitant collaborer en ligne.\n",
    "\n",
    "### Accès à Google Colab\n",
    "1. Ouvrir un navigateur web et accéder à [Google Colab](https://colab.research.google.com/).\n",
    "2. Connectez-vous à votre compte Google si nécessaire.\n",
    "\n",
    "### Fonctionnalités principales\n",
    "- **Exécution de notebooks Python** : Vous pouvez écrire et exécuter du code Python directement dans l’interface.\n",
    "- **Accès au matériel GPU/TPU** : Pour les calculs intensifs, activez un GPU ou TPU depuis **Runtime > Change runtime type > Hardware accelerator**.\n",
    "- **Collaboration en temps réel** : Partagez vos notebooks avec d’autres utilisateurs pour travailler simultanément.\n",
    "\n",
    "### Chargement de fichiers locaux\n",
    "Pour utiliser des fichiers locaux dans Google Colab, téléversez-les directement via l'interface ou montez votre Google Drive avec la commande suivante :  \n",
    "   ```\n",
    "   from google.colab import drive  \n",
    "   drive.mount('/content/drive')  \n",
    "   ```  \n",
    "\n",
    "### Exportation\n",
    "Les notebooks créés peuvent être téléchargés au format `.ipynb` ou `.py` depuis **File > Download**.\n",
    "\n",
    "---\n",
    "\n",
    "\n",
    "Un Jupyter Notebook est constitué de plusieurs \"cellules,\" empilées sur la page de haut en bas. Les cellules peuvent contenir du texte ou du code. Vous pouvez changer le type d'une cellule en utilisant le menu \"Cell\" en haut de la page ; allez dans `Cell > Cell Type` et sélectionnez soit `Code` pour le code Python, soit `Markdown` pour le texte. (Vous pouvez également changer cela pour la cellule actuelle en utilisant le menu déroulant dans la barre d'outils.)\n",
    "\n",
    "## Cellules de texte\n",
    "\n",
    "Créez une nouvelle cellule, changez son type en `Markdown`, tapez du texte et appuyez sur `Ctrl-Enter`. Jupyter Notebook va \"rendre\" le texte et l'afficher sur la page au format rendu. Vous pouvez appuyer sur `Enter` ou cliquer dans la cellule pour en modifier à nouveau le contenu. Le texte dans les cellules `Markdown` est rendu selon un ensemble de conventions appelé Markdown. Markdown est un langage simple pour formater le texte avec des informations de mise en forme de base (comme le gras, l'italique, les hyperliens, les tableaux, etc.)[^1]. \n",
    "\n",
    "---\n",
    "\n",
    "## Notes\n",
    "\n",
    "[^1]:  Voici un [tutoriel](http://markdowntutorial.com/). Vous apprendrez également Markdown en détail dans le cours Foundations.\n",
    "\n",
    "\n",
    "## Cellules de code\n",
    "\n",
    "Vous pouvez également appuyer sur `Alt-Enter` pour rendre la cellule actuelle et créer une nouvelle cellule. Par défaut, les nouvelles cellules seront des cellules de type `Code`. Essayez maintenant !\n",
    "\n"
   ]
  },
  {
   "cell_type": "code",
   "execution_count": null,
   "id": "a7d20adf-c81c-4f89-88d1-3eb51047fd6f",
   "metadata": {},
   "outputs": [],
   "source": [
    "print(\"Ceci est une cellule de code.\")\n",
    "print(\"\")\n",
    "print(\"Tout code Python que vous tapez dans cette cellule sera exécuté lorsque vous appuierez sur le bouton 'Run',\")\n",
    "print(\"ou lorsque vous appuierez sur Ctrl-Enter.\")\n",
    "print(\"\")\n",
    "print(\"Si le code retourne quelque chose, ou s'il produit une sortie, cette sortie sera\")\n",
    "print(\"affichée sous la cellule après son exécution.\")\n"
   ]
  },
  {
   "cell_type": "code",
   "execution_count": 2,
   "id": "2aea0d79-2a92-4918-931d-40228107faed",
   "metadata": {},
   "outputs": [
    {
     "name": "stdout",
     "output_type": "stream",
     "text": [
      "Si votre code Python génère une erreur, l'erreur sera affichée en plus\n",
      "de toute sortie déjà produite.\n"
     ]
    },
    {
     "ename": "ZeroDivisionError",
     "evalue": "division by zero",
     "output_type": "error",
     "traceback": [
      "\u001b[1;31m---------------------------------------------------------------------------\u001b[0m",
      "\u001b[1;31mZeroDivisionError\u001b[0m                         Traceback (most recent call last)",
      "Cell \u001b[1;32mIn[2], line 4\u001b[0m\n\u001b[0;32m      1\u001b[0m \u001b[38;5;28mprint\u001b[39m(\u001b[38;5;124m\"\u001b[39m\u001b[38;5;124mSi votre code Python génère une erreur, l\u001b[39m\u001b[38;5;124m'\u001b[39m\u001b[38;5;124merreur sera affichée en plus\u001b[39m\u001b[38;5;124m\"\u001b[39m)\n\u001b[0;32m      2\u001b[0m \u001b[38;5;28mprint\u001b[39m(\u001b[38;5;124m\"\u001b[39m\u001b[38;5;124mde toute sortie déjà produite.\u001b[39m\u001b[38;5;124m\"\u001b[39m)\n\u001b[1;32m----> 4\u001b[0m \u001b[38;5;241;43m1\u001b[39;49m\u001b[43m \u001b[49m\u001b[38;5;241;43m/\u001b[39;49m\u001b[43m \u001b[49m\u001b[38;5;241;43m0\u001b[39;49m\n",
      "\u001b[1;31mZeroDivisionError\u001b[0m: division by zero"
     ]
    }
   ],
   "source": [
    "print(\"Si votre code Python génère une erreur, l'erreur sera affichée en plus\")\n",
    "print(\"de toute sortie déjà produite.\")\n",
    "\n",
    "1 / 0"
   ]
  },
  {
   "cell_type": "markdown",
   "id": "7b492186",
   "metadata": {},
   "source": [
    "Toutes les variables que vous définissez ou les modules que vous importez dans une cellule de code seront disponibles dans les cellules de code suivantes. Commencez par ceci :\n"
   ]
  },
  {
   "cell_type": "code",
   "execution_count": 3,
   "id": "06f33261",
   "metadata": {},
   "outputs": [],
   "source": [
    "import random\n",
    "stuff = [\"cheddar\", \"daguerréotype\", \"éléphant\", \"marché aux puces\"]"
   ]
  },
  {
   "cell_type": "markdown",
   "id": "9ce9e944",
   "metadata": {},
   "source": [
    "... et dans les cellules suivantes, vous pouvez faire ceci :"
   ]
  },
  {
   "cell_type": "code",
   "execution_count": 4,
   "id": "8c81a051",
   "metadata": {},
   "outputs": [
    {
     "name": "stdout",
     "output_type": "stream",
     "text": [
      "éléphant\n"
     ]
    }
   ],
   "source": [
    "print(random.choice(stuff))"
   ]
  },
  {
   "cell_type": "markdown",
   "id": "78deed4e",
   "metadata": {},
   "source": [
    "## Raccourcis clavier\n",
    "\n",
    "Comme mentionné ci-dessus, `Ctrl-Enter` exécute la cellule actuelle ; `Alt-Enter` exécute la cellule actuelle et crée une nouvelle cellule. `Enter` commence l'édition de la cellule actuellement sélectionnée. Pour quitter l'édition d'une cellule, appuyez sur `Esc`. Si le curseur n'est actif dans aucune cellule (c'est-à-dire après avoir appuyé sur `Esc`), plusieurs autres raccourcis clavier sont disponibles :\n",
    "\n",
    "* `m` convertit la cellule sélectionnée en cellule Markdown\n",
    "* `b` insère une nouvelle cellule en dessous de la cellule sélectionnée\n",
    "* `x` \"coupe\" la cellule sélectionnée ; `v` colle une cellule précédemment coupée en dessous de la cellule sélectionnée\n",
    "* `h` affiche un écran d'aide avec de nombreux autres raccourcis.\n",
    "\n",
    "## Sauvegarder votre travail\n",
    "\n",
    "Appuyez sur `Cmd-S` à tout moment pour sauvegarder votre notebook. Jupyter Notebook sauvegarde également automatiquement de temps à autre. Assurez-vous de donner à votre notebook un titre descriptif en cliquant sur \"Untitled0\" en haut de la page et en remplaçant le texte en conséquence. Les notebooks que vous sauvegardez seront disponibles sur votre serveur chaque fois que vous vous connecterez à nouveau, quel que soit l'endroit où vous vous connectez.\n",
    "\n",
    "Vous pouvez \"télécharger\" votre notebook dans divers formats via `File > Download as`. Vous pouvez télécharger votre notebook sous forme de fichier HTML statique (par exemple, pour le mettre en ligne sur un site Web) ou sous forme de fichier `.ipynb`, que vous pouvez partager avec d'autres personnes ayant Jupyter Notebook ou rendre disponible en ligne via, par exemple, [nbviewer](http://nbviewer.ipython.org/)."
   ]
  }
 ],
 "metadata": {
  "anaconda-cloud": {},
  "kernelspec": {
   "display_name": "Python 3 (ipykernel)",
   "language": "python",
   "name": "python3"
  },
  "language_info": {
   "codemirror_mode": {
    "name": "ipython",
    "version": 3
   },
   "file_extension": ".py",
   "mimetype": "text/x-python",
   "name": "python",
   "nbconvert_exporter": "python",
   "pygments_lexer": "ipython3",
   "version": "3.12.5"
  },
  "unianalytics_cell_mapping": [
   [
    "152e9a2c",
    "152e9a2c"
   ],
   [
    "9f97fc6d",
    "9f97fc6d"
   ],
   [
    "b18b793a",
    "b18b793a"
   ],
   [
    "91c7ade4",
    "91c7ade4"
   ],
   [
    "3ddb9c1f",
    "3ddb9c1f"
   ],
   [
    "e2a014af",
    "e2a014af"
   ],
   [
    "e23b5318",
    "e23b5318"
   ],
   [
    "7b492186",
    "7b492186"
   ],
   [
    "06f33261",
    "06f33261"
   ],
   [
    "9ce9e944",
    "9ce9e944"
   ],
   [
    "8c81a051",
    "8c81a051"
   ],
   [
    "78deed4e",
    "78deed4e"
   ]
  ],
  "unianalytics_notebook_id": "4aebc203-3d37-4377-b707-8d4a970f449d"
 },
 "nbformat": 4,
 "nbformat_minor": 5
}