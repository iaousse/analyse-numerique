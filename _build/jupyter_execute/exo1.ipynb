{
 "cells": [
  {
   "cell_type": "markdown",
   "id": "9d6a17ec",
   "metadata": {},
   "source": [
    "#  Some exercises\n",
    "\n",
    "**Course**: [_Analyse Numérique pour SV_](https://moodle.epfl.ch/course/info.php?id=) (MATH-2xx)\n",
    "\n",
    "Original by prof. Fabio Nobile\n"
   ]
  },
  {
   "cell_type": "markdown",
   "id": "6361f0e8",
   "metadata": {},
   "source": [
    "- Before starting to work on this exercise session, you should review the material in the short `Python tutorial` available on Moodle."
   ]
  },
  {
   "cell_type": "markdown",
   "id": "1d1f6fd4",
   "metadata": {},
   "source": [
    "### Exercise 0 -- Learning Python using Python."
   ]
  },
  {
   "cell_type": "markdown",
   "id": "c7558131",
   "metadata": {},
   "source": [
    "Type the following commands and look at the results. Begin by importing numpy and matplotlib.pyplot  as "
   ]
  },
  {
   "cell_type": "code",
   "execution_count": null,
   "id": "79b4e0bf",
   "metadata": {},
   "outputs": [],
   "source": [
    "import numpy as np\n",
    "import matplotlib.pyplot as plt"
   ]
  },
  {
   "cell_type": "markdown",
   "id": "bd6e37eb",
   "metadata": {},
   "source": [
    "These are the libraries that python relies upon for scientific computing and plotting. "
   ]
  },
  {
   "cell_type": "markdown",
   "id": "b768c08f",
   "metadata": {},
   "source": [
    "| No. | Code | Instruction |\n",
    "| --- | --- | --- |\n",
    "| 1 |  `a=7` | Define $a$ as a scalar variable which has type `int` |\n",
    "| 2 |  `a=7.1` | Define $a$ as a scalar variable which has type `float`   |\n",
    "| 3 |  `b=np.array([1,2,3])` | Define $b\\in\\mathbb{R}^{1 \\times 3}$. What happens if you replace `,` by `''` or `;`?   |\n",
    "| 4 |  `g=b[2]` | Return the **third** element of  $b$. Note: Indexation starts at 0.   |\n",
    "| 5 |  `E=np.array([[1, 2, 3],[4, 5, 6]])` | Create matrix $E\\in\\mathbb{R}^{2\\times3}$. Note: Python is case sensitive.   |\n",
    "| 6 |  `E[0,:]` | Return first row of $E;$ $(1,4)^T$   |\n",
    "| 7 |  `h=E[1,2]` | Return the element $E_{2,3}$ of the matrix $E$ ($E_{2,3}=6$).   |\n",
    "| 8 |  `%whos` | Fetch information about the used variables.    |\n",
    "| 9 |  `help(np.sin)` | Fetch help for the command ` np.sin`. Same as `? np.sin` in iPython.   |\n",
    "| 10 |  `A=np.eye(3)` | Return the identity matrix $3\\times 3$    |\n",
    "| 11 |  `I=np.ones((4,4))` | Return matrix $4\\times 4$ for which each value is 1   |\n",
    "| 12 |  `F=np.zeros((2,3))` | Return $F\\in\\mathbb{R}^{2\\times 3}$ for which each value is 0   |\n",
    "| 13 |  `F.T` | Perform transpose of $F$   |\n",
    "| 14 |  `x=np.linspace(0,1,3)` | Return a vector of length $3$ whose values are equally distributed between $0$ and $1$ |\n",
    "| 15 |  `D=np.diag(b)` | Return diagonal matrix with diagonal given by vector b.   |\n",
    "| 16 |  `np.shape(F)` | Return the number of lines and columns of $F$ in a line vector.   |\n",
    "| 17 |  `A@D` | Return product of two matrices   |\n",
    "| 18 |  `E@x` | Return matrix vector product   |\n",
    "| 19 |  `A[-1,1]` | Return element of $A$ which is on the last line, second column   |\n",
    "| 20 |  `H=np.array([[1, 3],[9, 11]])；np.linalg.solve(H,E)` | Compute $H^{-1}E$. Note: Never use `np.linalg.inv(H)@E`    |\n",
    "| 21 |  `np.linalg.det(H)` | Compute determinant of $H$   |"
   ]
  },
  {
   "cell_type": "code",
   "execution_count": null,
   "id": "b649627f",
   "metadata": {},
   "outputs": [],
   "source": [
    "## type here and execute the 21 commands above\"\n",
    "#1\n",
    "a=7\n",
    "print('#1',a),\n",
    "#2 continue by yourself"
   ]
  },
  {
   "cell_type": "markdown",
   "id": "90e3791b",
   "metadata": {},
   "source": [
    "### Exercise 1\n",
    "\n",
    "Fibonacci's series is defined as follows:\n",
    "$$\\begin{align*}\n",
    "F_0&=0\\\\\n",
    "F_1&=1\\\\\n",
    "F_{n}&=F_{n-1}+F_{n-2}, \\quad \\forall n \\geq 2\n",
    "\\end{align*}$$\n",
    "* Complete the `Python` function below  which computes the $30^{\\text{th}}$ Fibonacci's number.\n",
    "\n",
    "* Write a function which takes as an argument a natural number $n$ and returns the $n^{\\text{th}}$ Fibonacci's number.\n"
   ]
  },
  {
   "cell_type": "code",
   "execution_count": null,
   "id": "93a78d30",
   "metadata": {
    "tags": []
   },
   "outputs": [],
   "source": [
    "#COMPLETE THIS CODE\n",
    "def Fibonacci(n):\n",
    "    # n should be a positive integer\n",
    "    # Complete this code\n",
    "    Fn=None #Change this value\n",
    "    # ...\n",
    "    return Fn\n",
    "\n",
    "F30=Fibonacci(30)\n",
    "print(F30)"
   ]
  },
  {
   "cell_type": "markdown",
   "id": "c9e44b8b",
   "metadata": {},
   "source": [
    "### Exercise 2\n",
    "Let us consider the matrices \n",
    "\\begin{align*}\n",
    "A=\n",
    "\\begin{bmatrix}\n",
    "5 & 3 & 0\\\\\n",
    "1 & 1 & -4\\\\\n",
    "3 & 0 & 0\n",
    "\\end{bmatrix}, \\quad\n",
    "B=\n",
    "\\begin{bmatrix}\n",
    "4 & 3 & 2\\\\\n",
    "0 & 1 & 0\\\\\n",
    "5 & 0 & 1/2\n",
    "\\end{bmatrix}.\n",
    "\\end{align*}\n",
    "Compute (without using any loops), the matrix $C=AB$ (matrix product) and the matrix $D$ which\n",
    "has as elements $D_{ij}=A_{ij}B_{ij}$ (element-wise product)."
   ]
  },
  {
   "cell_type": "markdown",
   "id": "0cbe4cf4",
   "metadata": {},
   "source": [
    "#### Solution:\n",
    "\n",
    "We can use the Python commands `@` for matrix multiplication and `*` for element-wise multiplication, as shown below:\n"
   ]
  },
  {
   "cell_type": "code",
   "execution_count": null,
   "id": "dfbd35e7",
   "metadata": {},
   "outputs": [],
   "source": [
    "A=np.array([ [5,3,0],\n",
    "             [1,1,-4],\n",
    "            [3,0,0]])\n",
    "B=np.array([ [4,3,2],\n",
    "             [0,1,0],\n",
    "            [5,0,1/2]])\n",
    "\n",
    "\n",
    "# Complete this code\n",
    "C=None #Change this value\n",
    "D=None #Change this value\n",
    "\n",
    "\n",
    "print('C matrix')\n",
    "print(C)\n",
    "\n",
    "print('D matrix')\n",
    "print(D)\n"
   ]
  },
  {
   "cell_type": "markdown",
   "id": "c12e68fb",
   "metadata": {},
   "source": [
    "### Exercise 3\n",
    "\n",
    "Define (without using any loops) the\n",
    "bidiagonal matrix of size $n=5$ whose main diagonal is a vector\n",
    "of equally distributed points between $3$ and $6$, i.e. $$D=(3, 3.75, 4.5, 5.25, 6)^T,$$\n",
    "\n",
    "and the sub-diagonal is the vector of equally distributed points between $2$ and $3.5$, i.e. $$S=(2, 2.5, 3, 3.5)^T.$$\n",
    "\n",
    "\n",
    "Tip: See ``https://numpy.org/doc/stable/reference/generated/numpy.diag.html``\n",
    "\n"
   ]
  },
  {
   "cell_type": "markdown",
   "id": "e945a613",
   "metadata": {},
   "source": [
    "#### Solution\n",
    "\n",
    "Following the reference for the`diag` method of numpy we obtain:"
   ]
  },
  {
   "cell_type": "code",
   "execution_count": null,
   "id": "b8ba236d",
   "metadata": {},
   "outputs": [],
   "source": [
    "# Complete this code\n",
    "D=None #Change this value\n",
    "S=None #Change this value\n",
    "M=None #Change this value\n",
    "\n",
    "print('The matrix M is')\n",
    "print(M)"
   ]
  },
  {
   "cell_type": "markdown",
   "id": "d2471c62",
   "metadata": {},
   "source": [
    "Remember that you can also obtain help from a python function using the command \n",
    "`help(NAME OF FUNCTION)`. In this case: `help(np.diag)`"
   ]
  },
  {
   "cell_type": "code",
   "execution_count": null,
   "id": "5f53a5f2",
   "metadata": {},
   "outputs": [],
   "source": [
    "help(np.diag)"
   ]
  },
  {
   "cell_type": "markdown",
   "id": "1b4e83fd",
   "metadata": {},
   "source": [
    "### Exercise 4\n",
    "Let us consider the vectors $x=(1,4,7,2,1,2)$ and $y=(0,9,1,4,3,0)$. \n",
    "Compute (without using any loops for points a and b):\n",
    "1. the product, component by component, between two vectors $x$ and $y$ (tip: use the operator `*`)\n",
    "2. the scalar product between the same vectors $x$ and $y$ (tip: use the operator `@`)\n",
    "3. a vector whose elements are defined by:\n",
    "$v_1=x_1\\,y_n, \\quad v_2=x_2\\, y_{n-1},\\quad \\dots, \\quad v_{n-1}=x_{n-1}\\, y_2,\\quad v_n=x_n\\,y_1$.\n"
   ]
  },
  {
   "cell_type": "markdown",
   "id": "b3c85ffd",
   "metadata": {},
   "source": [
    "#### Solution"
   ]
  },
  {
   "cell_type": "code",
   "execution_count": null,
   "id": "df77951c",
   "metadata": {},
   "outputs": [],
   "source": [
    "x=np.array([1,4,7,2,1,2])\n",
    "y=np.array([0,9,1,4,3,0])\n",
    "\n",
    "# Complete this code\n",
    "v1=None #Change this value\n",
    "v2=None #Change this value\n",
    "v3=None #Change this value\n",
    "\n",
    "print('v1 = '+str(v1))\n",
    "print('v2 = '+str(v2))\n",
    "print('v3 = '+str(v3))"
   ]
  },
  {
   "cell_type": "markdown",
   "id": "e015babd",
   "metadata": {},
   "source": [
    "### Exercise 5\n",
    "\n",
    "Plot the functions\n",
    "\\begin{align*}\n",
    "f(x)=x^3 , \\quad x \\in [1,10]\n",
    "\\end{align*}\n",
    "\\begin{align*}\n",
    "g(x)=\\exp(4x) , \\quad x \\in [1,10]\n",
    "\\end{align*}\n",
    "\n",
    "in linear scale (i.e. using the function `plt.plot()` and logarithmic scale (i.e. using the function `plt.semilogy()` and `plt.loglog()`. We will use the definition interval to plot these graphs considering 200 equally distributed points.\n",
    "\n",
    "\n",
    "\n",
    "\n"
   ]
  },
  {
   "cell_type": "markdown",
   "id": "71dd34b1",
   "metadata": {},
   "source": [
    "#### Solution \n",
    "\n"
   ]
  },
  {
   "cell_type": "code",
   "execution_count": null,
   "id": "2cff8737",
   "metadata": {},
   "outputs": [],
   "source": [
    "# Complete this code\n",
    "f=None #Change this value to define inline function f\n",
    "g=None #Change this value to define inline function g \n",
    "\n",
    "x=np.linspace(1,10,200)\n",
    "\n",
    "\n",
    "#plot ins plot plot \n",
    "plt.title(' Normal scale')\n",
    "plt.plot(x,f(x),label=r'$f(x)$')\n",
    "# Complete this code\n",
    "# add a plot here for g\n",
    "plt.legend()\n",
    "plt.show()\n",
    "\n",
    "#plot in semilogy \n",
    "\n",
    "\n",
    "# Complete this code\n",
    "\n",
    "\n",
    "\n",
    "\n",
    "#plot in log-log\n",
    "\n",
    "# Complete this code\n"
   ]
  },
  {
   "cell_type": "markdown",
   "id": "e08117e0",
   "metadata": {},
   "source": [
    "### Exercise 6\n",
    "\n",
    "1. Given \n",
    "\\begin{align*}\n",
    "f(x)=\\frac{x^2}{2}\\sin(x) , \\quad x \\in [1,20]\n",
    "\\end{align*}\n",
    "plot the function $f$ using 10, 20 and 100 equidistant points in the given interval.\n",
    "Plot the three graphs on the same figure with three\n",
    "different colors. Which one gives the best representation of $f$?\n",
    "\n",
    "2. Do the same for the functions:\n",
    "\\begin{align*}\n",
    "g(x) &= \\frac{x^3}{6}\\cos(\\sin(x))\\exp(-x)+\\left(\\frac{1}{1+x}\\right)^2 , \\quad x \\in [1,20] \\\\\n",
    "h(x) &= x(1-x)+\\frac{\\sin(x)\\cos(x)}{x^3}, \\quad x \\in [1,20].\n",
    "\\end{align*}\n"
   ]
  },
  {
   "cell_type": "markdown",
   "id": "b16410e3",
   "metadata": {},
   "source": [
    "#### solution"
   ]
  },
  {
   "cell_type": "code",
   "execution_count": null,
   "id": "5fa1267a",
   "metadata": {},
   "outputs": [],
   "source": [
    "# complete the code here for question 1"
   ]
  },
  {
   "cell_type": "code",
   "execution_count": null,
   "id": "d00ba75a",
   "metadata": {},
   "outputs": [],
   "source": [
    "# complete the code here for question 2\n"
   ]
  }
 ],
 "metadata": {
  "kernelspec": {
   "display_name": "Python 3 (ipykernel)",
   "language": "python",
   "name": "python3"
  },
  "language_info": {
   "codemirror_mode": {
    "name": "ipython",
    "version": 3
   },
   "file_extension": ".py",
   "mimetype": "text/x-python",
   "name": "python",
   "nbconvert_exporter": "python",
   "pygments_lexer": "ipython3",
   "version": "3.12.5"
  },
  "unianalytics_cell_mapping": [
   [
    "9d6a17ec",
    "9d6a17ec"
   ],
   [
    "6361f0e8",
    "6361f0e8"
   ],
   [
    "1d1f6fd4",
    "1d1f6fd4"
   ],
   [
    "c7558131",
    "c7558131"
   ],
   [
    "79b4e0bf",
    "79b4e0bf"
   ],
   [
    "bd6e37eb",
    "bd6e37eb"
   ],
   [
    "b768c08f",
    "b768c08f"
   ],
   [
    "b649627f",
    "b649627f"
   ],
   [
    "90e3791b",
    "90e3791b"
   ],
   [
    "93a78d30",
    "93a78d30"
   ],
   [
    "c9e44b8b",
    "c9e44b8b"
   ],
   [
    "0cbe4cf4",
    "0cbe4cf4"
   ],
   [
    "dfbd35e7",
    "dfbd35e7"
   ],
   [
    "c12e68fb",
    "c12e68fb"
   ],
   [
    "e945a613",
    "e945a613"
   ],
   [
    "b8ba236d",
    "b8ba236d"
   ],
   [
    "d2471c62",
    "d2471c62"
   ],
   [
    "5f53a5f2",
    "5f53a5f2"
   ],
   [
    "1b4e83fd",
    "1b4e83fd"
   ],
   [
    "b3c85ffd",
    "b3c85ffd"
   ],
   [
    "df77951c",
    "df77951c"
   ],
   [
    "e015babd",
    "e015babd"
   ],
   [
    "71dd34b1",
    "71dd34b1"
   ],
   [
    "2cff8737",
    "2cff8737"
   ],
   [
    "e08117e0",
    "e08117e0"
   ],
   [
    "b16410e3",
    "b16410e3"
   ],
   [
    "5fa1267a",
    "5fa1267a"
   ],
   [
    "d00ba75a",
    "d00ba75a"
   ]
  ],
  "unianalytics_notebook_id": "c702fa5d-1827-460a-a6b1-78a2e81096fa"
 },
 "nbformat": 4,
 "nbformat_minor": 5
}