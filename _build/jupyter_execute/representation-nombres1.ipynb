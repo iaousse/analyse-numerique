{
 "cells": [
  {
   "cell_type": "markdown",
   "id": "4a777f7e-9384-4b33-934b-31eba518b1a4",
   "metadata": {},
   "source": [
    "# Représentation des nombres en calcul scientifique\n",
    "\n",
    "Dans ce chapitre, nous explorons la manière dont les nombres sont représentés dans les ordinateurs, les conséquences de cette représentation sur les calculs numériques, et les erreurs qui en découlent. Nous aborderons également des exemples spécifiques pour illustrer les concepts théoriques, avec des implémentations pratiques en Python."
   ]
  },
  {
   "cell_type": "code",
   "execution_count": 15,
   "id": "cfcbb8ab-0d01-4a83-8c98-734b2827b08c",
   "metadata": {},
   "outputs": [],
   "source": [
    "# Importation des bibliothèques nécessaires\n",
    "import numpy as np\n",
    "import matplotlib.pyplot as plt"
   ]
  },
  {
   "cell_type": "markdown",
   "id": "61ec8422-bc7e-4b17-8a76-13313de82d67",
   "metadata": {},
   "source": [
    "## Introduction\n",
    "\n",
    "Les ordinateurs utilisent une représentation limitée des nombres réels en raison de contraintes matérielles. Cette représentation peut entraîner des erreurs d'approximation, des problèmes d'arrondi, et des limitations dans les calculs. Nous discuterons ici de plusieurs concepts clés :\n",
    "\n",
    "1. Représentation des nombres tels que $e$ et $e^x$.\n",
    "2. Propriétés des représentations numériques en double précision et simple précision (IEEE 754).\n",
    "3. Analyse des erreurs d'arrondi et d'annulation.\n",
    "4. Étude des différences finies comme méthode d'approximation des dérivées.\n",
    "\n",
    "---\n",
    "\n",
    "## Approximation des constantes mathématiques\n",
    "\n",
    "### Le nombre d'Euler $e$\n",
    "\n",
    "Le nombre d'Euler, noté $e$, est défini comme suit :\n",
    "\n",
    "$$\n",
    "e = \\lim_{n\\to\\infty}\\left( 1 + \\frac{1}{n} \\right)^n.$$\n",
    "Cette définition théorique implique que les valeurs calculées pour \n",
    "$$e_n = \\left(1 + \\frac{1}{n} \\right)^n$$\n",
    "devraient s'approcher de $e$ à mesure que $n$ augmente. Cependant, en pratique, la précision de cette suite dépend des limitations de la représentation numérique dans l'ordinateur.\n",
    "\n",
    "Nous calculons et comparons les approximations numériques de $e$ pour différentes valeurs de $n$ :\n"
   ]
  },
  {
   "cell_type": "code",
   "execution_count": 16,
   "id": "d2873ecb-9144-4d05-81b1-7cc69a704a00",
   "metadata": {},
   "outputs": [
    {
     "name": "stdout",
     "output_type": "stream",
     "text": [
      "10^i \t\t e_n \t\t\t e_n - e\n",
      "10^ 1 \t    2.593742460100002 \t   -0.124539368359043\n",
      "10^ 2 \t    2.704813829421528 \t   -0.013467999037517\n",
      "10^ 3 \t    2.716923932235594 \t   -0.001357896223452\n",
      "10^ 4 \t    2.718145926824926 \t   -0.000135901634120\n",
      "10^ 5 \t    2.718268237192297 \t   -0.000013591266748\n",
      "10^ 6 \t    2.718280469095753 \t   -0.000001359363292\n",
      "10^ 7 \t    2.718281694132082 \t   -0.000000134326963\n",
      "10^ 8 \t    2.718281798347358 \t   -0.000000030111687\n",
      "10^ 9 \t    2.718282052011560 \t    0.000000223552515\n",
      "10^10 \t    2.718282053234788 \t    0.000000224775742\n",
      "10^11 \t    2.718282053357110 \t    0.000000224898065\n",
      "10^12 \t    2.718523496037238 \t    0.000241667578193\n",
      "10^13 \t    2.716110034086901 \t   -0.002171794372144\n",
      "10^14 \t    2.716110034087023 \t   -0.002171794372022\n",
      "10^15 \t    3.035035206549262 \t    0.316753378090217\n"
     ]
    }
   ],
   "source": [
    "# Approximation de e\n",
    "print('10^i \\t\\t e_n \\t\\t\\t e_n - e')\n",
    "for i in range(1,16):\n",
    "    n = 10.0 ** i; en = (1 + 1/n) ** n\n",
    "    print('10^%2d \\t %20.15f \\t %20.15f' % (i, en, en-np.e))"
   ]
  },
  {
   "cell_type": "markdown",
   "id": "98c9e634-4b21-477e-804f-2fa9ce51e9e9",
   "metadata": {},
   "source": [
    "\n",
    "### La fonction exponentielle $e^x$\n",
    "\n",
    "La fonction exponentielle peut être approximée à l'aide de la série de Taylor :\n",
    "\n",
    "$$\n",
    "e^x = \\sum_{k=0}^\\infty \\frac{x^k}{k!} = 1 + x + \\frac{x^2}{2} + \\frac{x^3}{6} + \\dots\n",
    "$$\n",
    "\n",
    "L'ordinateur ne calcule que des séries partielles :\n",
    "\n",
    "$$\n",
    "s_i(x) = \\sum_{k=0}^{i} \\frac{x^k}{k!}\n",
    "$$\n",
    "\n",
    "Le reste de Taylor est donné par :\n",
    "\n",
    "$$\n",
    "e^x - s_i(x) = \\frac{e^\\xi x^{i+1}}{(i+1)!}, \\quad \\text{avec } \\xi \\in [0, x]\n",
    "$$\n",
    "\n",
    "L'erreur relative peut être contrôlée en choisissant un indice $i$ tel que :\n",
    "\n",
    "$$\n",
    "\\frac{|x|^{i+1}}{(i+1)!} \\leq \\tau s_i(x)\n",
    "$$\n",
    "\n",
    "L'implémentation suivante calcule la valeur approximée de $e^x$ avec une tolérance $\\tau$ donnée :\n"
   ]
  },
  {
   "cell_type": "code",
   "execution_count": 17,
   "id": "6e18eef9-3632-44a4-871a-db32b715e081",
   "metadata": {},
   "outputs": [],
   "source": [
    "def expeval(x, tol):\n",
    "    # Approximation de e^x\n",
    "    s = 1; k = 1\n",
    "    term = 1\n",
    "    while (abs(term) > tol * abs(s)):\n",
    "        term = term * x / k\n",
    "        s += term\n",
    "        k += 1\n",
    "    return s\n",
    "\n",
    "# Calcul de e^x pour des valeurs choisies\n",
    "# Reproduisez ici le tableau demandé"
   ]
  },
  {
   "cell_type": "markdown",
   "id": "6d9a3f70-bc1d-4608-8856-496583f1559a",
   "metadata": {},
   "source": [
    "---\n",
    "\n",
    "## Représentation numérique : IEEE 754\n",
    "\n",
    "La norme IEEE 754 est utilisée pour représenter les nombres réels en mémoire. En Python, les calculs en virgule flottante utilisent par défaut la double précision. Voici quelques propriétés importantes de cette norme :\n",
    "\n",
    "- **Précision simple (`float32`)** : Moins précise, mais consomme moins de mémoire.\n",
    "- **Précision double (`float64`)** : Plus précise, utilisée par défaut.\n",
    "- **Infini et NaN** : La division par zéro peut produire un résultat infini ($\\infty$) ou une valeur non définie (`NaN`).\n",
    "\n",
    "Exemples en Python :\n"
   ]
  },
  {
   "cell_type": "code",
   "execution_count": null,
   "id": "b3adeb13-f750-46ac-b5bf-f0dac58cc2a9",
   "metadata": {},
   "outputs": [],
   "source": [
    "import sys\n",
    "sys.float_info.min             # 2.2251e-308\n",
    "sys.float_info.max             # 1.7977e+308"
   ]
  },
  {
   "cell_type": "code",
   "execution_count": 18,
   "id": "55d84845-1f16-4f40-a00a-06eae67411d5",
   "metadata": {},
   "outputs": [
    {
     "ename": "ZeroDivisionError",
     "evalue": "division by zero",
     "output_type": "error",
     "traceback": [
      "\u001b[1;31m---------------------------------------------------------------------------\u001b[0m",
      "\u001b[1;31mZeroDivisionError\u001b[0m                         Traceback (most recent call last)",
      "Cell \u001b[1;32mIn[18], line 4\u001b[0m\n\u001b[0;32m      2\u001b[0m sys\u001b[38;5;241m.\u001b[39mfloat_info\u001b[38;5;241m.\u001b[39mmin             \u001b[38;5;66;03m# 2.2251e-308\u001b[39;00m\n\u001b[0;32m      3\u001b[0m sys\u001b[38;5;241m.\u001b[39mfloat_info\u001b[38;5;241m.\u001b[39mmax             \u001b[38;5;66;03m# 1.7977e+308\u001b[39;00m\n\u001b[1;32m----> 4\u001b[0m \u001b[38;5;241;43m1\u001b[39;49m\u001b[43m \u001b[49m\u001b[38;5;241;43m/\u001b[39;49m\u001b[43m \u001b[49m\u001b[38;5;241;43m0\u001b[39;49m                          \u001b[38;5;66;03m# Erreur (division par zéro)\u001b[39;00m\n\u001b[0;32m      5\u001b[0m \u001b[38;5;28mfloat\u001b[39m(\u001b[38;5;124m'\u001b[39m\u001b[38;5;124minf\u001b[39m\u001b[38;5;124m'\u001b[39m) \u001b[38;5;241m-\u001b[39m \u001b[38;5;28mfloat\u001b[39m(\u001b[38;5;124m'\u001b[39m\u001b[38;5;124minf\u001b[39m\u001b[38;5;124m'\u001b[39m)    \u001b[38;5;66;03m# nan\u001b[39;00m\n",
      "\u001b[1;31mZeroDivisionError\u001b[0m: division by zero"
     ]
    }
   ],
   "source": [
    "\n",
    "1 / 0                          # Erreur (division par zéro)\n"
   ]
  },
  {
   "cell_type": "code",
   "execution_count": null,
   "id": "be9e2bed-886b-467b-b70f-22bc4a0476aa",
   "metadata": {},
   "outputs": [],
   "source": [
    "float('inf') - float('inf')    # nan"
   ]
  },
  {
   "cell_type": "markdown",
   "id": "74376048-8396-4220-a861-685637196c81",
   "metadata": {},
   "source": [
    "**Remarque** : En Python pur, la division par zéro produit une erreur. En revanche, `numpy` respecte IEEE 754 :"
   ]
  },
  {
   "cell_type": "code",
   "execution_count": 19,
   "id": "fec55193-cd95-47b5-971f-a107dd6c8af7",
   "metadata": {},
   "outputs": [
    {
     "name": "stderr",
     "output_type": "stream",
     "text": [
      "C:\\Users\\HP\\AppData\\Local\\Temp\\ipykernel_13048\\4201507300.py:1: RuntimeWarning: divide by zero encountered in scalar divide\n",
      "  1 / np.float64(0)  # Renvoie inf\n"
     ]
    },
    {
     "data": {
      "text/plain": [
       "np.float64(inf)"
      ]
     },
     "execution_count": 19,
     "metadata": {},
     "output_type": "execute_result"
    }
   ],
   "source": [
    "1 / np.float64(0)  # Renvoie inf"
   ]
  },
  {
   "cell_type": "markdown",
   "id": "f1bd11bf-a459-4da4-9fd4-19c95048f266",
   "metadata": {},
   "source": [
    "---\n",
    "\n",
    "## Erreurs d'arrondi\n",
    "\n",
    "Les erreurs d'arrondi se produisent lorsque la précision est insuffisante pour représenter un nombre. Voici un exemple où l'on utilise des variables en `float16` pour observer les différences d'approximation :\n",
    "\n",
    "### Somme de nombres alternés\n"
   ]
  },
  {
   "cell_type": "code",
   "execution_count": 20,
   "id": "c400ac0d-e2e7-49b3-ac07-47350274525c",
   "metadata": {},
   "outputs": [
    {
     "name": "stdout",
     "output_type": "stream",
     "text": [
      "Somme (np.float64) : -0.42108128157976970618\n",
      "Somme (np.float16) : -0.42236328125000000000\n"
     ]
    }
   ],
   "source": [
    "n = 1000  # Exemple avec 1000 points\n",
    "t = np.sin(np.linspace(0, 1, n))\n",
    "y = np.linspace(0, 1, n) \n",
    "y[1::2] = -1 * y[1::2]\n",
    "\n",
    "# Réduction de précision\n",
    "x = np.float16(y) \n",
    "r = np.float16(t)\n",
    "\n",
    "# Somme en double et simple précision\n",
    "print('Somme (np.float64) : %1.20f' % sum(y*t))\n",
    "print('Somme (np.float16) : %1.20f' % sum(x*r))"
   ]
  },
  {
   "cell_type": "markdown",
   "id": "acd14681-dfc5-41e4-9df8-76f98b43fa6c",
   "metadata": {},
   "source": [
    "---\n",
    "\n",
    "## Erreurs d'annulation\n",
    "\n",
    "Lorsque deux nombres proches sont soustraits, des chiffres significatifs peuvent être perdus, amplifiant l'erreur. Par exemple :\n",
    "\n",
    "$$\n",
    "f(x) = \\frac{1 - \\cos(x)}{x^2}\n",
    "$$\n",
    "\n",
    "Implémentation :\n"
   ]
  },
  {
   "cell_type": "code",
   "execution_count": 21,
   "id": "880d4ec2-e5f9-4107-9a0f-1b0223653d7b",
   "metadata": {},
   "outputs": [
    {
     "data": {
      "image/png": "[encoded data removed]",
      "text/plain": [
       "<Figure size 640x480 with 1 Axes>"
      ]
     },
     "metadata": {},
     "output_type": "display_data"
    }
   ],
   "source": [
    "def f(x):\n",
    "    return (1 - np.cos(x)) / (x**2)\n",
    "\n",
    "# Calcul pour différentes bases\n",
    "b = 10\n",
    "k = np.array(np.arange(6, 20))\n",
    "x = 1 / b**k\n",
    "\n",
    "plt.semilogx(x, f(x), 'b*-')\n",
    "plt.xlabel('x'); plt.ylabel('f(x)')\n",
    "plt.title('Erreur d\\'annulation pour f(x)', fontweight='bold')\n",
    "plt.grid()\n",
    "plt.show()"
   ]
  },
  {
   "cell_type": "markdown",
   "id": "0ca8d4d5-4bab-44d7-b819-0b7b949fd7d1",
   "metadata": {},
   "source": [
    "---\n",
    "\n",
    "## Différences finies\n",
    "\n",
    "Les différences finies sont utilisées pour approximer les dérivées :\n",
    "\n",
    "$$\n",
    "f'(x_0) = \\lim_{h\\to0} \\frac{f(x_0+h) - f(x_0)}{h}\n",
    "$$\n",
    "\n",
    "Pour $f(x) = e^x$ et $x_0 = 0$, nous pouvons calculer l'erreur d'approximation :\n"
   ]
  },
  {
   "cell_type": "code",
   "execution_count": 22,
   "id": "1cc3b59e-33d7-4b99-87b7-f26873aeb4b5",
   "metadata": {},
   "outputs": [
    {
     "data": {
      "image/png": "[encoded data removed]",
      "text/plain": [
       "<Figure size 640x480 with 1 Axes>"
      ]
     },
     "metadata": {},
     "output_type": "display_data"
    }
   ],
   "source": [
    "def f(x):\n",
    "    return np.exp(x)\n",
    "x0 = 0\n",
    "k = np.array(range(0, 17))\n",
    "h = 1 / 10**k\n",
    "\n",
    "# Différences finies\n",
    "fprime = (f(x0 + h) - f(x0)) / h\n",
    "\n",
    "# Erreur\n",
    "errH = np.abs(np.exp(x0) - fprime)\n",
    "\n",
    "plt.loglog(h, errH)\n",
    "plt.xlabel('h'); plt.ylabel('Erreur')\n",
    "plt.title('Erreur dans les différences finies', fontweight='bold')\n",
    "plt.grid()\n",
    "plt.show()"
   ]
  },
  {
   "cell_type": "markdown",
   "id": "e935c4e5-efe0-4630-b245-842ad4512b69",
   "metadata": {
    "tags": []
   },
   "source": []
  },
  {
   "cell_type": "code",
   "execution_count": null,
   "id": "7e5e9797-8b87-4857-8873-64e8ca3e25f4",
   "metadata": {},
   "outputs": [],
   "source": []
  }
 ],
 "metadata": {
  "kernelspec": {
   "display_name": "Python 3 (ipykernel)",
   "language": "python",
   "name": "python3"
  },
  "language_info": {
   "codemirror_mode": {
    "name": "ipython",
    "version": 3
   },
   "file_extension": ".py",
   "mimetype": "text/x-python",
   "name": "python",
   "nbconvert_exporter": "python",
   "pygments_lexer": "ipython3",
   "version": "3.12.5"
  },
  "unianalytics_cell_mapping": [
   [
    "e935c4e5-efe0-4630-b245-842ad4512b69",
    "e935c4e5-efe0-4630-b245-842ad4512b69"
   ],
   [
    "0eeeed8f-1558-4035-8711-a097786330a9",
    "0eeeed8f-1558-4035-8711-a097786330a9"
   ],
   [
    "01087337-5e01-4deb-a8c8-83fe147d63f3",
    "01087337-5e01-4deb-a8c8-83fe147d63f3"
   ],
   [
    "1d3ef1dd-bc69-41fd-b6e6-1061b0f57b94",
    "1d3ef1dd-bc69-41fd-b6e6-1061b0f57b94"
   ],
   [
    "f962ce28-6a55-4207-93d9-eaa5a7849bcd",
    "f962ce28-6a55-4207-93d9-eaa5a7849bcd"
   ],
   [
    "f4a7c17a-00fa-47c8-9f01-26bf50abdb73",
    "f4a7c17a-00fa-47c8-9f01-26bf50abdb73"
   ],
   [
    "c226fa49-0d5f-4458-aa38-97be980ab158",
    "c226fa49-0d5f-4458-aa38-97be980ab158"
   ],
   [
    "be14a2b4-f962-4fa2-9f5b-27fc6d640d81",
    "be14a2b4-f962-4fa2-9f5b-27fc6d640d81"
   ],
   [
    "e5ad2fc5-856c-4ab7-950e-21401b65924e",
    "e5ad2fc5-856c-4ab7-950e-21401b65924e"
   ],
   [
    "def89b00-2173-4f20-b94a-f5eb7cfeb106",
    "def89b00-2173-4f20-b94a-f5eb7cfeb106"
   ],
   [
    "17167230-0a86-4b90-9317-6ed5d1ca45a8",
    "17167230-0a86-4b90-9317-6ed5d1ca45a8"
   ],
   [
    "03aeeee4-074f-4f34-b9e3-5bff9a70c445",
    "03aeeee4-074f-4f34-b9e3-5bff9a70c445"
   ],
   [
    "eddbb58b-ed38-4627-a595-62b55435243a",
    "eddbb58b-ed38-4627-a595-62b55435243a"
   ],
   [
    "da4157f4-d940-42f1-983e-bc6e0ea25afb",
    "da4157f4-d940-42f1-983e-bc6e0ea25afb"
   ],
   [
    "a7a75c76-1132-487a-8181-f92be0492246",
    "a7a75c76-1132-487a-8181-f92be0492246"
   ],
   [
    "76ad9faf-2be2-4b23-923c-c636cdc8cfd3",
    "76ad9faf-2be2-4b23-923c-c636cdc8cfd3"
   ],
   [
    "e27340b1-213d-4b4f-bef7-6ecec40c37c5",
    "e27340b1-213d-4b4f-bef7-6ecec40c37c5"
   ],
   [
    "68662282-a72e-4791-8d3b-f5d16f7d0ba9",
    "68662282-a72e-4791-8d3b-f5d16f7d0ba9"
   ],
   [
    "b24996b9-c181-4492-950f-e42e7ce7a141",
    "b24996b9-c181-4492-950f-e42e7ce7a141"
   ],
   [
    "752a87e2-a28d-4377-8ff8-ecb8a2dd2336",
    "752a87e2-a28d-4377-8ff8-ecb8a2dd2336"
   ],
   [
    "4f4907c6-3166-49d3-b800-52473aada8df",
    "4f4907c6-3166-49d3-b800-52473aada8df"
   ],
   [
    "4fee6e0b-91b5-49a3-816f-a5856452a720",
    "4fee6e0b-91b5-49a3-816f-a5856452a720"
   ],
   [
    "e2830e01-006e-4c0b-bd73-541b54db4df7",
    "e2830e01-006e-4c0b-bd73-541b54db4df7"
   ],
   [
    "e17b172b-a30a-4f19-8b06-d8305180ee4d",
    "e17b172b-a30a-4f19-8b06-d8305180ee4d"
   ],
   [
    "8b79693e-5af0-4732-8481-3e1d7ecf4786",
    "8b79693e-5af0-4732-8481-3e1d7ecf4786"
   ],
   [
    "a45e6948-bd26-4ce0-bf6a-01aad2c77e4e",
    "a45e6948-bd26-4ce0-bf6a-01aad2c77e4e"
   ],
   [
    "4546b369-675b-4e76-8a0b-e3c70928be4a",
    "4546b369-675b-4e76-8a0b-e3c70928be4a"
   ],
   [
    "7e5e9797-8b87-4857-8873-64e8ca3e25f4",
    "7e5e9797-8b87-4857-8873-64e8ca3e25f4"
   ]
  ],
  "unianalytics_notebook_id": "02db560b-7620-4ab0-a1a2-7c1203180ac1"
 },
 "nbformat": 4,
 "nbformat_minor": 5
}